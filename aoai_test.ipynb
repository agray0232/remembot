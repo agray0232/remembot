{
 "cells": [
  {
   "cell_type": "code",
   "execution_count": 6,
   "metadata": {},
   "outputs": [
    {
     "name": "stdout",
     "output_type": "stream",
     "text": [
      "Defaulting to user installation because normal site-packages is not writeable\n",
      "Collecting python-dotenv\n",
      "  Downloading python_dotenv-1.0.0-py3-none-any.whl (19 kB)\n",
      "Requirement already satisfied: ipykernel in /home/vscode/.local/lib/python3.10/site-packages (from -r requirements.txt (line 2)) (6.26.0)\n",
      "Requirement already satisfied: openai==0.28 in /home/vscode/.local/lib/python3.10/site-packages (from -r requirements.txt (line 3)) (0.28.0)\n",
      "Requirement already satisfied: aiohttp in /home/vscode/.local/lib/python3.10/site-packages (from openai==0.28->-r requirements.txt (line 3)) (3.8.6)\n",
      "Requirement already satisfied: requests>=2.20 in /home/vscode/.local/lib/python3.10/site-packages (from openai==0.28->-r requirements.txt (line 3)) (2.31.0)\n",
      "Requirement already satisfied: tqdm in /home/vscode/.local/lib/python3.10/site-packages (from openai==0.28->-r requirements.txt (line 3)) (4.66.1)\n",
      "Requirement already satisfied: jupyter-core!=5.0.*,>=4.12 in /home/vscode/.local/lib/python3.10/site-packages (from ipykernel->-r requirements.txt (line 2)) (5.5.0)\n",
      "Requirement already satisfied: psutil in /home/vscode/.local/lib/python3.10/site-packages (from ipykernel->-r requirements.txt (line 2)) (5.9.6)\n",
      "Requirement already satisfied: tornado>=6.1 in /home/vscode/.local/lib/python3.10/site-packages (from ipykernel->-r requirements.txt (line 2)) (6.3.3)\n",
      "Requirement already satisfied: matplotlib-inline>=0.1 in /home/vscode/.local/lib/python3.10/site-packages (from ipykernel->-r requirements.txt (line 2)) (0.1.6)\n",
      "Requirement already satisfied: jupyter-client>=6.1.12 in /home/vscode/.local/lib/python3.10/site-packages (from ipykernel->-r requirements.txt (line 2)) (8.6.0)\n",
      "Requirement already satisfied: nest-asyncio in /home/vscode/.local/lib/python3.10/site-packages (from ipykernel->-r requirements.txt (line 2)) (1.5.8)\n",
      "Requirement already satisfied: debugpy>=1.6.5 in /home/vscode/.local/lib/python3.10/site-packages (from ipykernel->-r requirements.txt (line 2)) (1.8.0)\n",
      "Requirement already satisfied: comm>=0.1.1 in /home/vscode/.local/lib/python3.10/site-packages (from ipykernel->-r requirements.txt (line 2)) (0.2.0)\n",
      "Requirement already satisfied: packaging in /home/vscode/.local/lib/python3.10/site-packages (from ipykernel->-r requirements.txt (line 2)) (23.2)\n",
      "Requirement already satisfied: ipython>=7.23.1 in /home/vscode/.local/lib/python3.10/site-packages (from ipykernel->-r requirements.txt (line 2)) (8.17.2)\n",
      "Requirement already satisfied: pyzmq>=20 in /home/vscode/.local/lib/python3.10/site-packages (from ipykernel->-r requirements.txt (line 2)) (25.1.1)\n",
      "Requirement already satisfied: traitlets>=5.4.0 in /home/vscode/.local/lib/python3.10/site-packages (from ipykernel->-r requirements.txt (line 2)) (5.13.0)\n",
      "Requirement already satisfied: decorator in /home/vscode/.local/lib/python3.10/site-packages (from ipython>=7.23.1->ipykernel->-r requirements.txt (line 2)) (5.1.1)\n",
      "Requirement already satisfied: pexpect>4.3 in /home/vscode/.local/lib/python3.10/site-packages (from ipython>=7.23.1->ipykernel->-r requirements.txt (line 2)) (4.8.0)\n",
      "Requirement already satisfied: stack-data in /home/vscode/.local/lib/python3.10/site-packages (from ipython>=7.23.1->ipykernel->-r requirements.txt (line 2)) (0.6.3)\n",
      "Requirement already satisfied: exceptiongroup in /home/vscode/.local/lib/python3.10/site-packages (from ipython>=7.23.1->ipykernel->-r requirements.txt (line 2)) (1.1.3)\n",
      "Requirement already satisfied: jedi>=0.16 in /home/vscode/.local/lib/python3.10/site-packages (from ipython>=7.23.1->ipykernel->-r requirements.txt (line 2)) (0.19.1)\n",
      "Requirement already satisfied: prompt-toolkit!=3.0.37,<3.1.0,>=3.0.30 in /home/vscode/.local/lib/python3.10/site-packages (from ipython>=7.23.1->ipykernel->-r requirements.txt (line 2)) (3.0.41)\n",
      "Requirement already satisfied: pygments>=2.4.0 in /home/vscode/.local/lib/python3.10/site-packages (from ipython>=7.23.1->ipykernel->-r requirements.txt (line 2)) (2.16.1)\n",
      "Requirement already satisfied: python-dateutil>=2.8.2 in /home/vscode/.local/lib/python3.10/site-packages (from jupyter-client>=6.1.12->ipykernel->-r requirements.txt (line 2)) (2.8.2)\n",
      "Requirement already satisfied: platformdirs>=2.5 in /home/vscode/.local/lib/python3.10/site-packages (from jupyter-core!=5.0.*,>=4.12->ipykernel->-r requirements.txt (line 2)) (4.0.0)\n",
      "Requirement already satisfied: idna<4,>=2.5 in /home/vscode/.local/lib/python3.10/site-packages (from requests>=2.20->openai==0.28->-r requirements.txt (line 3)) (3.4)\n",
      "Requirement already satisfied: certifi>=2017.4.17 in /home/vscode/.local/lib/python3.10/site-packages (from requests>=2.20->openai==0.28->-r requirements.txt (line 3)) (2023.7.22)\n",
      "Requirement already satisfied: charset-normalizer<4,>=2 in /home/vscode/.local/lib/python3.10/site-packages (from requests>=2.20->openai==0.28->-r requirements.txt (line 3)) (3.3.2)\n",
      "Requirement already satisfied: urllib3<3,>=1.21.1 in /home/vscode/.local/lib/python3.10/site-packages (from requests>=2.20->openai==0.28->-r requirements.txt (line 3)) (2.1.0)\n",
      "Requirement already satisfied: attrs>=17.3.0 in /home/vscode/.local/lib/python3.10/site-packages (from aiohttp->openai==0.28->-r requirements.txt (line 3)) (23.1.0)\n",
      "Requirement already satisfied: frozenlist>=1.1.1 in /home/vscode/.local/lib/python3.10/site-packages (from aiohttp->openai==0.28->-r requirements.txt (line 3)) (1.4.0)\n",
      "Requirement already satisfied: aiosignal>=1.1.2 in /home/vscode/.local/lib/python3.10/site-packages (from aiohttp->openai==0.28->-r requirements.txt (line 3)) (1.3.1)\n",
      "Requirement already satisfied: async-timeout<5.0,>=4.0.0a3 in /home/vscode/.local/lib/python3.10/site-packages (from aiohttp->openai==0.28->-r requirements.txt (line 3)) (4.0.3)\n",
      "Requirement already satisfied: multidict<7.0,>=4.5 in /home/vscode/.local/lib/python3.10/site-packages (from aiohttp->openai==0.28->-r requirements.txt (line 3)) (6.0.4)\n",
      "Requirement already satisfied: yarl<2.0,>=1.0 in /home/vscode/.local/lib/python3.10/site-packages (from aiohttp->openai==0.28->-r requirements.txt (line 3)) (1.9.2)\n",
      "Requirement already satisfied: parso<0.9.0,>=0.8.3 in /home/vscode/.local/lib/python3.10/site-packages (from jedi>=0.16->ipython>=7.23.1->ipykernel->-r requirements.txt (line 2)) (0.8.3)\n",
      "Requirement already satisfied: ptyprocess>=0.5 in /home/vscode/.local/lib/python3.10/site-packages (from pexpect>4.3->ipython>=7.23.1->ipykernel->-r requirements.txt (line 2)) (0.7.0)\n",
      "Requirement already satisfied: wcwidth in /home/vscode/.local/lib/python3.10/site-packages (from prompt-toolkit!=3.0.37,<3.1.0,>=3.0.30->ipython>=7.23.1->ipykernel->-r requirements.txt (line 2)) (0.2.10)\n",
      "Requirement already satisfied: six>=1.5 in /home/vscode/.local/lib/python3.10/site-packages (from python-dateutil>=2.8.2->jupyter-client>=6.1.12->ipykernel->-r requirements.txt (line 2)) (1.16.0)\n",
      "Requirement already satisfied: executing>=1.2.0 in /home/vscode/.local/lib/python3.10/site-packages (from stack-data->ipython>=7.23.1->ipykernel->-r requirements.txt (line 2)) (2.0.1)\n",
      "Requirement already satisfied: pure-eval in /home/vscode/.local/lib/python3.10/site-packages (from stack-data->ipython>=7.23.1->ipykernel->-r requirements.txt (line 2)) (0.2.2)\n",
      "Requirement already satisfied: asttokens>=2.1.0 in /home/vscode/.local/lib/python3.10/site-packages (from stack-data->ipython>=7.23.1->ipykernel->-r requirements.txt (line 2)) (2.4.1)\n",
      "Installing collected packages: python-dotenv\n",
      "Successfully installed python-dotenv-1.0.0\n",
      "\n",
      "\u001b[1m[\u001b[0m\u001b[34;49mnotice\u001b[0m\u001b[1;39;49m]\u001b[0m\u001b[39;49m A new release of pip is available: \u001b[0m\u001b[31;49m23.0.1\u001b[0m\u001b[39;49m -> \u001b[0m\u001b[32;49m23.3.1\u001b[0m\n",
      "\u001b[1m[\u001b[0m\u001b[34;49mnotice\u001b[0m\u001b[1;39;49m]\u001b[0m\u001b[39;49m To update, run: \u001b[0m\u001b[32;49mpip install --upgrade pip\u001b[0m\n"
     ]
    }
   ],
   "source": [
    "!pip install -r requirements.txt"
   ]
  },
  {
   "cell_type": "code",
   "execution_count": 7,
   "metadata": {},
   "outputs": [],
   "source": [
    "import os\n",
    "import openai\n",
    "from dotenv import load_dotenv\n",
    "\n",
    "load_dotenv()\n",
    "\n",
    "openai.api_type = \"azure\"\n",
    "openai.api_base = \"https://agray-aoai.openai.azure.com/\"\n",
    "openai.api_version = \"2023-07-01-preview\"\n",
    "openai.api_key = os.getenv(\"OPENAI_API_KEY\")"
   ]
  },
  {
   "cell_type": "code",
   "execution_count": 13,
   "metadata": {},
   "outputs": [],
   "source": [
    "message_text = [\n",
    "    {\"role\":\"system\",\"content\":\"You are an AI assistant that helps people find information.\"},\n",
    "    {\"role\":\"user\",\"content\":\"Hello\"},\n",
    "    {\"role\":\"assistant\",\"content\":\"Hello! How can I assist you today?\"},\n",
    "    {\"role\":\"user\",\"content\":\"What is Azure?\"}]"
   ]
  },
  {
   "cell_type": "code",
   "execution_count": 14,
   "metadata": {},
   "outputs": [],
   "source": [
    "completion = openai.ChatCompletion.create(\n",
    "  engine=\"gpt-35-turbo-16k\",\n",
    "  messages = message_text,\n",
    "  temperature=0.7,\n",
    "  max_tokens=800,\n",
    "  top_p=0.95,\n",
    "  frequency_penalty=0,\n",
    "  presence_penalty=0,\n",
    "  stop=None\n",
    ")"
   ]
  },
  {
   "cell_type": "code",
   "execution_count": 18,
   "metadata": {},
   "outputs": [
    {
     "name": "stdout",
     "output_type": "stream",
     "text": [
      "Azure is a cloud computing platform and service offered by Microsoft. It provides a range of cloud services, including those for computing, analytics, storage, and networking. Azure allows organizations to build, deploy, and manage applications and services through Microsoft-managed data centers. It offers various features such as virtual machines, databases, AI services, developer tools, and more. Azure is widely used by businesses to scale their infrastructure, store and process data, and run applications in the cloud.\n"
     ]
    }
   ],
   "source": [
    "print(completion.choices[0].message.content)"
   ]
  }
 ],
 "metadata": {
  "kernelspec": {
   "display_name": "Python 3",
   "language": "python",
   "name": "python3"
  },
  "language_info": {
   "codemirror_mode": {
    "name": "ipython",
    "version": 3
   },
   "file_extension": ".py",
   "mimetype": "text/x-python",
   "name": "python",
   "nbconvert_exporter": "python",
   "pygments_lexer": "ipython3",
   "version": "3.10.13"
  }
 },
 "nbformat": 4,
 "nbformat_minor": 2
}
